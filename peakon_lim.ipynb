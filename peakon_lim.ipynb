{
 "cells": [
  {
   "cell_type": "code",
   "execution_count": 3,
   "metadata": {},
   "outputs": [],
   "source": [
    "import torch\n",
    "import numpy as np\n",
    "from scipy import optimize\n",
    "from scipy import interpolate\n",
    "import matplotlib.pyplot as plt\n",
    "\n",
    "import math"
   ]
  },
  {
   "cell_type": "code",
   "execution_count": 41,
   "metadata": {},
   "outputs": [],
   "source": [
    "# k = 0.6\n",
    "# p = 1\n",
    "\n",
    "k = 0.18\n",
    "p = 0.97 / k\n",
    "\n",
    "# k = 0.06\n",
    "# p = 0.997 / k\n",
    "\n",
    "\n",
    "c = 2*k*k*k / (1 - k*k*p*p)\n",
    "c_tilte = c / k\n",
    "\n",
    "def Theta(theta_):\n",
    "    return theta_ / k + p * math.log(((1+k*p) + (1-k*p)*math.exp(theta_)) / ((1-k*p) + (1+k*p)*math.exp(theta_)))\n",
    "\n",
    "def u0(theta_):\n",
    "    return 2*k*c*p*p / ((1+k*k*p*p) +(1-k*k*p*p)*np.cosh(theta_))\n",
    "\n",
    "def theta(Theta_):\n",
    "    return optimize.bisect(lambda x : Theta(x) - Theta_, -100., 100.)\n",
    "\n",
    "def Theta_x(x, t=0, x0=0):\n",
    "    return p * (x - c_tilte * t + x0)\n",
    "\n",
    "def u_x(x, t=0):\n",
    "    return u0(theta(Theta_x(x[i], t, x0=0)))\n",
    "    "
   ]
  },
  {
   "cell_type": "code",
   "execution_count": 42,
   "metadata": {},
   "outputs": [
    {
     "data": {
      "text/plain": [
       "3.0453271959956396"
      ]
     },
     "execution_count": 42,
     "metadata": {},
     "output_type": "execute_result"
    }
   ],
   "source": [
    "theta(2)"
   ]
  },
  {
   "cell_type": "code",
   "execution_count": 45,
   "metadata": {},
   "outputs": [
    {
     "data": {
      "image/png": "[encoded data removed]",
      "text/plain": [
       "<Figure size 432x288 with 1 Axes>"
      ]
     },
     "metadata": {
      "needs_background": "light"
     },
     "output_type": "display_data"
    }
   ],
   "source": [
    "x = np.linspace(-10., 10., num=10000)\n",
    "u = []\n",
    "for i in range(len(x)):\n",
    "    u.append(u0(theta(Theta_x(x[i], 3, x0=0))))\n",
    "    \n",
    "#interpolate\n",
    "# f_inter = interpolate.interp1d(x, u)\n",
    "    \n",
    "# plt.plot(x, f_inter(x))\n",
    "# plt.show()\n",
    "\n",
    "plt.plot(x, u)\n",
    "plt.show()"
   ]
  },
  {
   "cell_type": "markdown",
   "metadata": {},
   "source": [
    "# extrapolate"
   ]
  },
  {
   "cell_type": "code",
   "execution_count": 8,
   "metadata": {},
   "outputs": [],
   "source": [
    "#extrapolate\n",
    "def f_extra(x):\n",
    "    if x <=20. and x >= -20.:\n",
    "        return f_inter(x)\n",
    "    else:\n",
    "        return 0."
   ]
  },
  {
   "cell_type": "code",
   "execution_count": 9,
   "metadata": {},
   "outputs": [
    {
     "data": {
      "text/plain": [
       "(array(0.00136706), 0.0)"
      ]
     },
     "execution_count": 9,
     "metadata": {},
     "output_type": "execute_result"
    }
   ],
   "source": [
    "f_extra(-20), f_extra(-21)"
   ]
  },
  {
   "cell_type": "code",
   "execution_count": 10,
   "metadata": {},
   "outputs": [],
   "source": [
    "def u0_x(x):\n",
    "    return f_extra(x)\n",
    "\n",
    "L = 0.\n",
    "def u(x, t, x0=0.):\n",
    "    return f_extra(x - c_tilte * t + x0)"
   ]
  },
  {
   "cell_type": "code",
   "execution_count": null,
   "metadata": {},
   "outputs": [],
   "source": []
  },
  {
   "cell_type": "code",
   "execution_count": 11,
   "metadata": {},
   "outputs": [
    {
     "data": {
      "text/plain": [
       "0.6311032947799343"
      ]
     },
     "execution_count": 11,
     "metadata": {},
     "output_type": "execute_result"
    }
   ],
   "source": [
    "c_tilte"
   ]
  },
  {
   "cell_type": "code",
   "execution_count": 12,
   "metadata": {},
   "outputs": [],
   "source": [
    "x = torch.tensor([1, 2])\n",
    "t = torch.tensor([3, 4])"
   ]
  },
  {
   "cell_type": "code",
   "execution_count": 13,
   "metadata": {},
   "outputs": [
    {
     "data": {
      "text/plain": [
       "tensor(0.0308, dtype=torch.float64)"
      ]
     },
     "execution_count": 13,
     "metadata": {},
     "output_type": "execute_result"
    }
   ],
   "source": [
    "torch.from_numpy(u(x[0].detach().numpy(), t[0].detach().numpy()))"
   ]
  },
  {
   "cell_type": "code",
   "execution_count": 14,
   "metadata": {},
   "outputs": [
    {
     "data": {
      "text/plain": [
       "array(1)"
      ]
     },
     "execution_count": 14,
     "metadata": {},
     "output_type": "execute_result"
    }
   ],
   "source": [
    "x[0].detach().numpy()"
   ]
  },
  {
   "cell_type": "code",
   "execution_count": 15,
   "metadata": {},
   "outputs": [],
   "source": [
    "u = torch.full(size=(3, 1), fill_value=0., dtype=torch.double)"
   ]
  },
  {
   "cell_type": "code",
   "execution_count": 16,
   "metadata": {},
   "outputs": [
    {
     "data": {
      "text/plain": [
       "tensor([0.], dtype=torch.float64)"
      ]
     },
     "execution_count": 16,
     "metadata": {},
     "output_type": "execute_result"
    }
   ],
   "source": [
    "u[1]"
   ]
  },
  {
   "cell_type": "code",
   "execution_count": 23,
   "metadata": {},
   "outputs": [
    {
     "name": "stdout",
     "output_type": "stream",
     "text": [
      "-124.84286920508013\n",
      "-122.31761988731607\n",
      "-119.79237128753134\n",
      "-117.26712356641727\n",
      "-114.74187692061723\n",
      "-112.21663159076442\n",
      "-109.69138787131324\n",
      "-107.16614612256369\n",
      "-104.64090678536502\n",
      "-102.11567039909303\n",
      "-99.5904376236238\n",
      "-97.06520926618568\n",
      "-94.53998631416046\n",
      "-92.01476997513487\n",
      "-89.4895617257799\n",
      "-86.96436337146461\n",
      "-84.43917711890562\n",
      "-81.91400566461621\n",
      "-79.3888523024636\n",
      "-76.86372105426996\n",
      "-74.33861682810745\n",
      "-71.81354560973033\n",
      "-69.28851469343864\n",
      "-66.76353295953552\n",
      "-64.2386112063466\n",
      "-61.71376254538655\n",
      "-59.18900286847839\n",
      "-56.66435139514018\n",
      "-54.13983130687754\n",
      "-51.61547047148102\n",
      "-49.09130225406985\n",
      "-46.567366401171796\n",
      "-44.043709967946114\n",
      "-41.52038823480496\n",
      "-38.99746552611965\n",
      "-36.47501579875442\n",
      "-33.953122811507036\n",
      "-31.43187962071116\n",
      "-28.91138708006183\n",
      "-26.391750970113314\n",
      "-23.87307737173244\n",
      "-21.355465966558246\n",
      "-18.839001141888378\n",
      "-16.323741136626293\n",
      "-13.809705996520979\n",
      "-11.296865753052252\n",
      "-8.78513084986413\n",
      "-6.274347173590851\n",
      "-3.7642978370155906\n",
      "-1.2547129476364793\n",
      "1.2547129476364791\n",
      "3.7642978370155906\n",
      "6.274347173590852\n",
      "8.78513084986413\n",
      "11.296865753052229\n",
      "13.809705996520979\n",
      "16.323741136626293\n",
      "18.839001141888378\n",
      "21.355465966558224\n",
      "23.87307737173244\n",
      "26.391750970113314\n",
      "28.91138708006183\n",
      "31.43187962071115\n",
      "33.95312281150702\n",
      "36.47501579875442\n",
      "38.99746552611965\n",
      "41.52038823480497\n",
      "44.04370996794611\n",
      "46.56736640117178\n",
      "49.09130225406985\n",
      "51.61547047148102\n",
      "54.139831306877525\n",
      "56.66435139514017\n",
      "59.18900286847839\n",
      "61.71376254538655\n",
      "64.23861120634659\n",
      "66.76353295953552\n",
      "69.28851469343864\n",
      "71.81354560973033\n",
      "74.33861682810743\n",
      "76.86372105426997\n",
      "79.3888523024636\n",
      "81.91400566461618\n",
      "84.43917711890562\n",
      "86.9643633714646\n",
      "89.48956172577992\n",
      "92.01476997513487\n",
      "94.53998631416043\n",
      "97.06520926618569\n",
      "99.5904376236238\n",
      "102.11567039909302\n",
      "104.64090678536502\n",
      "107.16614612256366\n",
      "109.69138787131325\n",
      "112.21663159076442\n",
      "114.74187692061722\n",
      "117.26712356641727\n",
      "119.79237128753134\n",
      "122.31761988731608\n",
      "124.84286920508013\n",
      "[-124.84286920508013, -122.31761988731607, -119.79237128753134, -117.26712356641727, -114.74187692061723, -112.21663159076442, -109.69138787131324, -107.16614612256369, -104.64090678536502, -102.11567039909303, -99.5904376236238, -97.06520926618568, -94.53998631416046, -92.01476997513487, -89.4895617257799, -86.96436337146461, -84.43917711890562, -81.91400566461621, -79.3888523024636, -76.86372105426996, -74.33861682810745, -71.81354560973033, -69.28851469343864, -66.76353295953552, -64.2386112063466, -61.71376254538655, -59.18900286847839, -56.66435139514018, -54.13983130687754, -51.61547047148102, -49.09130225406985, -46.567366401171796, -44.043709967946114, -41.52038823480496, -38.99746552611965, -36.47501579875442, -33.953122811507036, -31.43187962071116, -28.91138708006183, -26.391750970113314, -23.87307737173244, -21.355465966558246, -18.839001141888378, -16.323741136626293, -13.809705996520979, -11.296865753052252, -8.78513084986413, -6.274347173590851, -3.7642978370155906, -1.2547129476364793, 1.2547129476364791, 3.7642978370155906, 6.274347173590852, 8.78513084986413, 11.296865753052229, 13.809705996520979, 16.323741136626293, 18.839001141888378, 21.355465966558224, 23.87307737173244, 26.391750970113314, 28.91138708006183, 31.43187962071115, 33.95312281150702, 36.47501579875442, 38.99746552611965, 41.52038823480497, 44.04370996794611, 46.56736640117178, 49.09130225406985, 51.61547047148102, 54.139831306877525, 56.66435139514017, 59.18900286847839, 61.71376254538655, 64.23861120634659, 66.76353295953552, 69.28851469343864, 71.81354560973033, 74.33861682810743, 76.86372105426997, 79.3888523024636, 81.91400566461618, 84.43917711890562, 86.9643633714646, 89.48956172577992, 92.01476997513487, 94.53998631416043, 97.06520926618569, 99.5904376236238, 102.11567039909302, 104.64090678536502, 107.16614612256366, 109.69138787131325, 112.21663159076442, 114.74187692061722, 117.26712356641727, 119.79237128753134, 122.31761988731608, 124.84286920508013]\n"
     ]
    }
   ],
   "source": [
    "a = np.linspace(-10.0, 10.0, num=100)\n",
    "b = []\n",
    "for i in range(len(a)):\n",
    "    print(Theta(a[i]))\n",
    "    b.append(Theta(a[i]))\n",
    "    \n",
    "print(b)"
   ]
  },
  {
   "cell_type": "code",
   "execution_count": 24,
   "metadata": {
    "scrolled": true
   },
   "outputs": [
    {
     "data": {
      "image/png": "[encoded data removed]",
      "text/plain": [
       "<Figure size 432x288 with 1 Axes>"
      ]
     },
     "metadata": {
      "needs_background": "light"
     },
     "output_type": "display_data"
    }
   ],
   "source": [
    "plt.plot(a, b)\n",
    "plt.show()"
   ]
  },
  {
   "cell_type": "code",
   "execution_count": 19,
   "metadata": {},
   "outputs": [
    {
     "ename": "NameError",
     "evalue": "name 'scipy' is not defined",
     "output_type": "error",
     "traceback": [
      "\u001b[0;31m---------------------------------------------------------------------------\u001b[0m",
      "\u001b[0;31mNameError\u001b[0m                                 Traceback (most recent call last)",
      "\u001b[0;32m<ipython-input-19-efa7989d925d>\u001b[0m in \u001b[0;36m<module>\u001b[0;34m\u001b[0m\n\u001b[1;32m      3\u001b[0m \u001b[0;32mfor\u001b[0m \u001b[0mi\u001b[0m \u001b[0;32min\u001b[0m \u001b[0mrange\u001b[0m\u001b[0;34m(\u001b[0m\u001b[0mlen\u001b[0m\u001b[0;34m(\u001b[0m\u001b[0mc\u001b[0m\u001b[0;34m)\u001b[0m\u001b[0;34m)\u001b[0m\u001b[0;34m:\u001b[0m\u001b[0;34m\u001b[0m\u001b[0;34m\u001b[0m\u001b[0m\n\u001b[1;32m      4\u001b[0m     \u001b[0mx\u001b[0m \u001b[0;34m=\u001b[0m \u001b[0mc\u001b[0m\u001b[0;34m[\u001b[0m\u001b[0mi\u001b[0m\u001b[0;34m]\u001b[0m\u001b[0;34m\u001b[0m\u001b[0;34m\u001b[0m\u001b[0m\n\u001b[0;32m----> 5\u001b[0;31m     \u001b[0md\u001b[0m\u001b[0;34m.\u001b[0m\u001b[0mappend\u001b[0m\u001b[0;34m(\u001b[0m\u001b[0mscipy\u001b[0m\u001b[0;34m.\u001b[0m\u001b[0moptimize\u001b[0m\u001b[0;34m.\u001b[0m\u001b[0mbisect\u001b[0m\u001b[0;34m(\u001b[0m\u001b[0mTheta\u001b[0m\u001b[0;34m,\u001b[0m \u001b[0;34m-\u001b[0m\u001b[0;36m10.\u001b[0m\u001b[0;34m,\u001b[0m \u001b[0;36m10.\u001b[0m\u001b[0;34m)\u001b[0m\u001b[0;34m)\u001b[0m\u001b[0;34m\u001b[0m\u001b[0;34m\u001b[0m\u001b[0m\n\u001b[0m",
      "\u001b[0;31mNameError\u001b[0m: name 'scipy' is not defined"
     ]
    }
   ],
   "source": [
    "c = np.linspace(-15., 15., num=100000)\n",
    "d = []\n",
    "for i in range(len(c)):\n",
    "    x = c[i]\n",
    "    d.append(scipy.optimize.bisect(Theta, -10., 10.))"
   ]
  },
  {
   "cell_type": "code",
   "execution_count": 77,
   "metadata": {},
   "outputs": [
    {
     "data": {
      "image/png": "[encoded data removed]",
      "text/plain": [
       "<Figure size 432x288 with 1 Axes>"
      ]
     },
     "metadata": {
      "needs_background": "light"
     },
     "output_type": "display_data"
    }
   ],
   "source": [
    "plt.plot(c, d)\n",
    "plt.show()"
   ]
  },
  {
   "cell_type": "code",
   "execution_count": null,
   "metadata": {},
   "outputs": [],
   "source": []
  },
  {
   "cell_type": "code",
   "execution_count": null,
   "metadata": {},
   "outputs": [],
   "source": []
  },
  {
   "cell_type": "code",
   "execution_count": 177,
   "metadata": {},
   "outputs": [
    {
     "data": {
      "text/plain": [
       "tensor([1, 2])"
      ]
     },
     "execution_count": 177,
     "metadata": {},
     "output_type": "execute_result"
    }
   ],
   "source": [
    "a = torch.tensor([1, 2])\n",
    "a"
   ]
  },
  {
   "cell_type": "code",
   "execution_count": 178,
   "metadata": {},
   "outputs": [
    {
     "data": {
      "text/plain": [
       "tensor([False, False])"
      ]
     },
     "execution_count": 178,
     "metadata": {},
     "output_type": "execute_result"
    }
   ],
   "source": [
    "a > 2."
   ]
  },
  {
   "cell_type": "code",
   "execution_count": 180,
   "metadata": {},
   "outputs": [
    {
     "data": {
      "text/plain": [
       "tensor([1, 3])"
      ]
     },
     "execution_count": 180,
     "metadata": {},
     "output_type": "execute_result"
    }
   ],
   "source": [
    "a[1] = 3\n",
    "a"
   ]
  },
  {
   "cell_type": "code",
   "execution_count": null,
   "metadata": {},
   "outputs": [],
   "source": []
  }
 ],
 "metadata": {
  "kernelspec": {
   "display_name": "Python 3",
   "language": "python",
   "name": "python3"
  },
  "language_info": {
   "codemirror_mode": {
    "name": "ipython",
    "version": 3
   },
   "file_extension": ".py",
   "mimetype": "text/x-python",
   "name": "python",
   "nbconvert_exporter": "python",
   "pygments_lexer": "ipython3",
   "version": "3.7.9"
  }
 },
 "nbformat": 4,
 "nbformat_minor": 1
}
